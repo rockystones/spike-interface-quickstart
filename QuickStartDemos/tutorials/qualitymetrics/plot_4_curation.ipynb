{
  "cells": [
    {
      "cell_type": "markdown",
      "metadata": {},
      "source": [
        "\n# Curation Tutorial\n\nAfter spike sorting and computing quality metrics, you can automatically curate the spike sorting output using the\nquality metrics that you have calculated.\n"
      ]
    },
    {
      "cell_type": "markdown",
      "metadata": {},
      "source": [
        "Import the modules and/or functions necessary from spikeinterface\n\n"
      ]
    },
    {
      "cell_type": "code",
      "execution_count": null,
      "metadata": {
        "collapsed": false
      },
      "outputs": [],
      "source": [
        "import spikeinterface.core as si\nimport spikeinterface.extractors as se\n\nfrom spikeinterface.postprocessing import compute_principal_components\nfrom spikeinterface.qualitymetrics import compute_quality_metrics"
      ]
    },
    {
      "cell_type": "markdown",
      "metadata": {},
      "source": [
        "Let's download a simulated dataset\nfrom the repo 'https://gin.g-node.org/NeuralEnsemble/ephy_testing_data'\n\nLet's imagine that the ground-truth sorting is in fact the output of a sorter.\n\n"
      ]
    },
    {
      "cell_type": "code",
      "execution_count": null,
      "metadata": {
        "collapsed": false
      },
      "outputs": [],
      "source": [
        "local_path = si.download_dataset(remote_path=\"mearec/mearec_test_10s.h5\")\nrecording, sorting = se.read_mearec(file_path=local_path)\nprint(recording)\nprint(sorting)"
      ]
    },
    {
      "cell_type": "markdown",
      "metadata": {},
      "source": [
        "## Create SortingAnalyzer\n\nFor this example, we will need a :code:`SortingAnalyzer` and some extensions\nto be computed first\n\n"
      ]
    },
    {
      "cell_type": "code",
      "execution_count": null,
      "metadata": {
        "collapsed": false
      },
      "outputs": [],
      "source": [
        "analyzer = si.create_sorting_analyzer(sorting=sorting, recording=recording, format=\"memory\")\nanalyzer.compute([\"random_spikes\", \"waveforms\", \"templates\", \"noise_levels\"])\n\nanalyzer.compute(\"principal_components\", n_components=3, mode=\"by_channel_local\")\nprint(analyzer)"
      ]
    },
    {
      "cell_type": "markdown",
      "metadata": {},
      "source": [
        "Then we compute some quality metrics:\n\n"
      ]
    },
    {
      "cell_type": "code",
      "execution_count": null,
      "metadata": {
        "collapsed": false
      },
      "outputs": [],
      "source": [
        "metrics = compute_quality_metrics(analyzer, metric_names=[\"snr\", \"isi_violation\", \"nearest_neighbor\"])\nprint(metrics)"
      ]
    },
    {
      "cell_type": "markdown",
      "metadata": {},
      "source": [
        "We can now threshold each quality metric and select units based on some rules.\n\nThe easiest and most intuitive way is to use boolean masking with a dataframe.\n\nThen create a list of unit ids that we want to keep\n\n"
      ]
    },
    {
      "cell_type": "code",
      "execution_count": null,
      "metadata": {
        "collapsed": false
      },
      "outputs": [],
      "source": [
        "keep_mask = (metrics[\"snr\"] > 7.5) & (metrics[\"isi_violations_ratio\"] < 0.2) & (metrics[\"nn_hit_rate\"] > 0.90)\nprint(keep_mask)\n\nkeep_unit_ids = keep_mask[keep_mask].index.values\nkeep_unit_ids = [unit_id for unit_id in keep_unit_ids]\nprint(keep_unit_ids)"
      ]
    },
    {
      "cell_type": "markdown",
      "metadata": {},
      "source": [
        "And now let's create a sorting that contains only curated units and save it.\n\n"
      ]
    },
    {
      "cell_type": "code",
      "execution_count": null,
      "metadata": {
        "collapsed": false
      },
      "outputs": [],
      "source": [
        "curated_sorting = sorting.select_units(keep_unit_ids)\nprint(curated_sorting)\n\n\ncurated_sorting.save(folder=\"curated_sorting\")"
      ]
    },
    {
      "cell_type": "markdown",
      "metadata": {},
      "source": [
        "We can also save the analyzer with only theses units\n\n"
      ]
    },
    {
      "cell_type": "code",
      "execution_count": null,
      "metadata": {
        "collapsed": false
      },
      "outputs": [],
      "source": [
        "clean_analyzer = analyzer.select_units(unit_ids=keep_unit_ids, format=\"zarr\", folder=\"clean_analyzer\")\n\nprint(clean_analyzer)"
      ]
    }
  ],
  "metadata": {
    "kernelspec": {
      "display_name": "Python 3",
      "language": "python",
      "name": "python3"
    },
    "language_info": {
      "codemirror_mode": {
        "name": "ipython",
        "version": 3
      },
      "file_extension": ".py",
      "mimetype": "text/x-python",
      "name": "python",
      "nbconvert_exporter": "python",
      "pygments_lexer": "ipython3",
      "version": "3.10.17"
    }
  },
  "nbformat": 4,
  "nbformat_minor": 0
}