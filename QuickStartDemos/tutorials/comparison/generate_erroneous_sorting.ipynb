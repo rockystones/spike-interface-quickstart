{
  "cells": [
    {
      "cell_type": "markdown",
      "metadata": {},
      "source": [
        "\nThis generate a erroneous sorting to illustrate in some example\nsome possible mistake catch in ground truth comparison.\n"
      ]
    },
    {
      "cell_type": "code",
      "execution_count": null,
      "metadata": {
        "collapsed": false
      },
      "outputs": [],
      "source": [
        "import numpy as np\nimport matplotlib.pyplot as plt\n\nimport spikeinterface.extractors as se\nimport spikeinterface.comparison as sc\nimport spikeinterface.widgets as sw\n\n\ndef generate_erroneous_sorting():\n    \"\"\"\n    Generate an erroneous spike sorting for illustration purposes.\n\n    This function creates a toy example recording and true sorting using the\n    `toy_example` function. It then introduces\n    various errors in the true sorting to create an erroneous sorting.\n\n    The specific types of errors are:\n\n    * Units 1 and 2 are perfect and have no errors.\n    * Units 3, 4, and 10 have medium to low agreement with the true sorting.\n    * Units 5 and 6 are over-merged, meaning that they contain spikes from multiple true units.\n    * Unit 7 is over-split, meaning that it contains spikes from a true unit that has been split into two parts.\n    * Unit 8 is redundant and appears 3 times in the erroneous sorting.\n    * Unit 9 is completely missing from the erroneous sorting.\n    * Units 15, 16, and 17 do not exist in the true sorting, but are included in the erroneous sorting.\n\n    Returns:\n        A tuple containing the true sorting and the erroneous sorting in that order\n    \"\"\"\n\n    rec, sorting_true = se.toy_example(num_channels=4, num_units=10, duration=10, seed=10, num_segments=1)\n\n    # artificially remap to one based\n    sorting_true = sorting_true.select_units(unit_ids=None, renamed_unit_ids=np.arange(10, dtype=\"int64\") + 1)\n\n    sampling_frequency = sorting_true.get_sampling_frequency()\n\n    units_err = {}\n\n    # sorting_true have 10 units\n    np.random.seed(0)\n\n    # unit 1 2 are perfect\n    for u in [1, 2]:\n        st = sorting_true.get_unit_spike_train(u)\n        units_err[u] = st\n\n    # unit 3 4 (medium) 10 (low) have medium to low agreement\n    for u, score in [(3, 0.8), (4, 0.75), (10, 0.3)]:\n        st = sorting_true.get_unit_spike_train(u)\n        st = np.sort(np.random.choice(st, size=int(st.size * score), replace=False))\n        units_err[u] = st\n\n    # unit 5 6 are over merge\n    st5 = sorting_true.get_unit_spike_train(5)\n    st6 = sorting_true.get_unit_spike_train(6)\n    st = np.unique(np.concatenate([st5, st6]))\n    st = np.sort(np.random.choice(st, size=int(st.size * 0.7), replace=False))\n    units_err[56] = st\n\n    # unit 7 is over split in 2 part\n    st7 = sorting_true.get_unit_spike_train(7)\n    st70 = st7[::2]\n    units_err[70] = st70\n    st71 = st7[1::2]\n    st71 = np.sort(np.random.choice(st71, size=int(st71.size * 0.9), replace=False))\n    units_err[71] = st71\n\n    # unit 8 is redundant 3 times\n    st8 = sorting_true.get_unit_spike_train(8)\n    st80 = np.sort(np.random.choice(st8, size=int(st8.size * 0.65), replace=False))\n    st81 = np.sort(np.random.choice(st8, size=int(st8.size * 0.6), replace=False))\n    st82 = np.sort(np.random.choice(st8, size=int(st8.size * 0.55), replace=False))\n    units_err[80] = st80\n    units_err[81] = st81\n    units_err[82] = st82\n\n    # unit 9 is missing\n\n    # there are some units that do not exist 15 16 and 17\n    nframes = rec.get_num_frames(segment_index=0)\n    for u in [15, 16, 17]:\n        st = np.sort(np.random.randint(0, high=nframes, size=35))\n        units_err[u] = st\n    sorting_err = se.NumpySorting.from_unit_dict(units_err, sampling_frequency)\n\n    return sorting_true, sorting_err\n\n\nif __name__ == \"__main__\":\n    # just for check\n    sorting_true, sorting_err = generate_erroneous_sorting()\n    comp = sc.compare_sorter_to_ground_truth(sorting_true, sorting_err, exhaustive_gt=True)\n    sw.plot_agreement_matrix(comp, ordered=True)\n    plt.show()"
      ]
    }
  ],
  "metadata": {
    "kernelspec": {
      "display_name": "Python 3",
      "language": "python",
      "name": "python3"
    },
    "language_info": {
      "codemirror_mode": {
        "name": "ipython",
        "version": 3
      },
      "file_extension": ".py",
      "mimetype": "text/x-python",
      "name": "python",
      "nbconvert_exporter": "python",
      "pygments_lexer": "ipython3",
      "version": "3.10.17"
    }
  },
  "nbformat": 4,
  "nbformat_minor": 0
}