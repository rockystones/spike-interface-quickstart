{
  "cells": [
    {
      "cell_type": "markdown",
      "metadata": {},
      "source": [
        "\n# Working with unscaled traces\n\nSome file formats store data in convenient types that require offsetting and scaling in order to convert the\ntraces to uV. This example shows how to work with unscaled and scaled traces in the :py:mod:`spikeinterface.extractors`\nmodule.\n"
      ]
    },
    {
      "cell_type": "code",
      "execution_count": null,
      "metadata": {
        "collapsed": false
      },
      "outputs": [],
      "source": [
        "import numpy as np\nimport matplotlib.pyplot as plt\nimport spikeinterface.extractors as se"
      ]
    },
    {
      "cell_type": "markdown",
      "metadata": {},
      "source": [
        "First, let's create some traces in unsigned int16 type. Assuming the ADC output of our recording system has 10 bits,\nthe values will be between 0 and 1024. Let's assume our signal is centered at 512 and it has a standard deviation\nof 50 bits\n\n"
      ]
    },
    {
      "cell_type": "code",
      "execution_count": null,
      "metadata": {
        "collapsed": false
      },
      "outputs": [],
      "source": [
        "sampling_frequency = 30000\ntraces = 512 + 50 * np.random.randn(10 * sampling_frequency, 4)\ntraces = traces.astype(\"uint16\")"
      ]
    },
    {
      "cell_type": "markdown",
      "metadata": {},
      "source": [
        "Let's now instantiate a :py:class:`~spikeinterface.core.NumpyRecording` with the traces we just created\n\n"
      ]
    },
    {
      "cell_type": "code",
      "execution_count": null,
      "metadata": {
        "collapsed": false
      },
      "outputs": [],
      "source": [
        "recording = se.NumpyRecording([traces], sampling_frequency=sampling_frequency)\nprint(f\"Traces dtype: {recording.get_dtype()}\")"
      ]
    },
    {
      "cell_type": "markdown",
      "metadata": {},
      "source": [
        "Since our ADC samples between 0 and 1024, we need to convert to uV. To do so, we need to transform the traces as:\ntraces_uV = traces_raw * gains + offset\n\nLet's assume that our gain (i.e. the value of each bit) is 0.1, so that our voltage range is between 0 and 1024*0.1.\nWe also need an offset to center the traces around 0. The offset will be:  - 2^(10-1) * gain = -512 * gain\n(where 10 is the number of bits of our ADC)\n\n"
      ]
    },
    {
      "cell_type": "code",
      "execution_count": null,
      "metadata": {
        "collapsed": false
      },
      "outputs": [],
      "source": [
        "gain = 0.1\noffset = -(2 ** (10 - 1)) * gain"
      ]
    },
    {
      "cell_type": "markdown",
      "metadata": {},
      "source": [
        "We are now ready to set gains and offsets for our extractor. We also have to set the :code:`has_unscaled` field to\n:code:`True`:\n\n"
      ]
    },
    {
      "cell_type": "code",
      "execution_count": null,
      "metadata": {
        "collapsed": false
      },
      "outputs": [],
      "source": [
        "recording.set_channel_gains(gain)\nrecording.set_channel_offsets(offset)"
      ]
    },
    {
      "cell_type": "markdown",
      "metadata": {},
      "source": [
        "Internally the gain and offset are handled with properties\nSo the gain could be \"by channel\".\n\n"
      ]
    },
    {
      "cell_type": "code",
      "execution_count": null,
      "metadata": {
        "collapsed": false
      },
      "outputs": [],
      "source": [
        "print(recording.get_property(\"gain_to_uV\"))\nprint(recording.get_property(\"offset_to_uV\"))"
      ]
    },
    {
      "cell_type": "markdown",
      "metadata": {},
      "source": [
        "With gain and offset information, we can retrieve traces both in their unscaled (raw) type, and in their scaled\ntype:\n\n"
      ]
    },
    {
      "cell_type": "code",
      "execution_count": null,
      "metadata": {
        "collapsed": false
      },
      "outputs": [],
      "source": [
        "traces_unscaled = recording.get_traces(return_scaled=False)  # return_scaled is False by default\ntraces_scaled = recording.get_traces(return_scaled=True)\n\nprint(f\"Traces dtype after scaling: {traces_scaled.dtype}\")\n\nplt.plot(traces_unscaled[:, 0], label=\"unscaled\")\nplt.plot(traces_scaled[:, 0], label=\"scaled\")\nplt.legend()\n\nplt.show()"
      ]
    }
  ],
  "metadata": {
    "kernelspec": {
      "display_name": "Python 3",
      "language": "python",
      "name": "python3"
    },
    "language_info": {
      "codemirror_mode": {
        "name": "ipython",
        "version": 3
      },
      "file_extension": ".py",
      "mimetype": "text/x-python",
      "name": "python",
      "nbconvert_exporter": "python",
      "pygments_lexer": "ipython3",
      "version": "3.10.17"
    }
  },
  "nbformat": 4,
  "nbformat_minor": 0
}