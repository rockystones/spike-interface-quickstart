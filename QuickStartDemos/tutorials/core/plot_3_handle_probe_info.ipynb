{
  "cells": [
    {
      "cell_type": "markdown",
      "metadata": {},
      "source": [
        "\n# Handling probe information\n\nIn order to properly spike sort, you may need to load information related to the probe you are using.\n\nSpikeInterface internally uses :probeinterface:`ProbeInterface <>` to handle probes or probe groups for recordings.\n\nDepending on the dataset, the :py:class:`~probeinterface.Probe` object may already be included or might need to be set\nmanually.\n\nHere's how!\n"
      ]
    },
    {
      "cell_type": "code",
      "execution_count": null,
      "metadata": {
        "collapsed": false
      },
      "outputs": [],
      "source": [
        "import numpy as np\nimport spikeinterface.extractors as se"
      ]
    },
    {
      "cell_type": "markdown",
      "metadata": {},
      "source": [
        "First, let's create a toy example:\n\n"
      ]
    },
    {
      "cell_type": "code",
      "execution_count": null,
      "metadata": {
        "collapsed": false
      },
      "outputs": [],
      "source": [
        "recording, sorting_true = se.toy_example(duration=10, num_channels=32, seed=0, num_segments=2)\nprint(recording)"
      ]
    },
    {
      "cell_type": "markdown",
      "metadata": {},
      "source": [
        "This generator already contains a probe object that you can retrieve\ndirectly and plot:\n\n"
      ]
    },
    {
      "cell_type": "code",
      "execution_count": null,
      "metadata": {
        "collapsed": false
      },
      "outputs": [],
      "source": [
        "probe = recording.get_probe()\nprint(probe)\n\nfrom probeinterface.plotting import plot_probe\n\nplot_probe(probe)"
      ]
    },
    {
      "cell_type": "markdown",
      "metadata": {},
      "source": [
        "You can also overwrite the probe. In this case you need to manually set\nthe wiring (e.g. virtually connect each electrode to the recording device).\nLet's use a probe from Cambridge Neurotech with 32 channels:\n\n"
      ]
    },
    {
      "cell_type": "code",
      "execution_count": null,
      "metadata": {
        "collapsed": false
      },
      "outputs": [],
      "source": [
        "from probeinterface import get_probe\n\nother_probe = get_probe(manufacturer=\"cambridgeneurotech\", probe_name=\"ASSY-37-E-1\")\nprint(other_probe)\n\nother_probe.set_device_channel_indices(np.arange(32))\nrecording_2_shanks = recording.set_probe(other_probe, group_mode=\"by_shank\")\nplot_probe(recording_2_shanks.get_probe())"
      ]
    },
    {
      "cell_type": "markdown",
      "metadata": {},
      "source": [
        "Now let's check what we have loaded. The :code:`group_mode='by_shank'` automatically\nsets the 'group' property depending on the shank id.\nWe can use this information to split the recording into two sub-recordings.\nWe can access this information either as a dict with :code:`outputs='dict'` (default)\nor as a list of recordings with :code:`outputs='list'`.\n\n"
      ]
    },
    {
      "cell_type": "code",
      "execution_count": null,
      "metadata": {
        "collapsed": false
      },
      "outputs": [],
      "source": [
        "print(recording_2_shanks)\nprint(f'\\nGroup Property: {recording_2_shanks.get_property(\"group\")}\\n')\n\n# Here we split as a dict\nsub_recording_dict = recording_2_shanks.split_by(property=\"group\", outputs='dict')\n\n# Then we can pull out the individual sub-recordings\nsub_rec0 = sub_recording_dict[0]\nsub_rec1 = sub_recording_dict[1]\nprint(sub_rec0, '\\n')\nprint(sub_rec1)"
      ]
    },
    {
      "cell_type": "markdown",
      "metadata": {},
      "source": [
        "Note that some formats (MEArec, SpikeGLX) automatically handle the probe\ngeometry. For almost all other formats the probe and the wiring have\nto be set manually using the :code:`probeinterface` library.\n\n"
      ]
    }
  ],
  "metadata": {
    "kernelspec": {
      "display_name": "Python 3",
      "language": "python",
      "name": "python3"
    },
    "language_info": {
      "codemirror_mode": {
        "name": "ipython",
        "version": 3
      },
      "file_extension": ".py",
      "mimetype": "text/x-python",
      "name": "python",
      "nbconvert_exporter": "python",
      "pygments_lexer": "ipython3",
      "version": "3.10.17"
    }
  },
  "nbformat": 4,
  "nbformat_minor": 0
}