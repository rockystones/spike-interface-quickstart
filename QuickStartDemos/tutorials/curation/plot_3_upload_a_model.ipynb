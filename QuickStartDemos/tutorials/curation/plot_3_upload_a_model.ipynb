{
  "cells": [
    {
      "cell_type": "markdown",
      "metadata": {},
      "source": [
        "\n# Upload a pipeline to Hugging Face Hub\n"
      ]
    },
    {
      "cell_type": "markdown",
      "metadata": {},
      "source": [
        "In this tutorial we will upload a pipeline, trained in SpikeInterface, to the\n[Hugging Face Hub](https://huggingface.co/) (HFH).\n\nTo do this, you first need to train a model. [Learn how here!](https://spikeinterface.readthedocs.io/en/latest/tutorials/curation/plot_2_train_a_model.html)\n\n## Hugging Face Hub?\nHugging Face Hub (HFH) is a model sharing platform focused on AI and ML models and datasets.\nTo upload your own model to HFH, you need to make an account with them.\nIf you do not want to make an account, you can simply share the model folder with colleagues.\nThere are also several ways to interaction with HFH: the way we propose here doesn't use\nmany of the tools ``skops`` and hugging face have developed such as the ``Card`` and\n``hub_utils``. Feel free to check those out [here](https://skops.readthedocs.io/en/stable/examples.html).\n\n## Prepare your model\n\nThe plan is to make a folder with the following file structure\n\n```\nmy_model_folder/\n    my_model_name.skops\n    model_info.json\n    training_data.csv\n    labels.csv\n    metadata.json\n```\nSpikeInterface and HFH don't require you to keep this folder structure, we just advise it as\nbest practice.\n\nIf you've used SpikeInterface to train your model, the ``train_model`` function auto-generates\nmost of this data. The only thing missing is the the ``metadata.json`` file. The purpose of this\nfile is to detail how the model was trained, which can help prospective users decide if it\nis relevant for them. For example, taking\na model trained on mouse data and applying it to a primate is likely a bad idea (or a\ngreat research paper!). And a model trained using tetrode data might have limited application\non a silcone high-density probes. Hence we suggest saving at least the species, brain areas\nand probe information, as is done in the dictionary below. Note that we format the metadata\nso that the information\nin common with the NWB data format is consistent with it. Since the models can be trained\non several curations, all the metadata fields are lists:\n\n```\nimport json\n\nmodel_metadata = {\n    \"subject_species\": [\"Mus musculus\"],\n    \"brain_areas\": [\"CA1\"],\n    \"probes\":\n        [{\n         \"manufacturer\": \"IMEc\",\n         \"name\": \"Neuropixels 2.0\"\n        }]\n    }\nwith open(\"my_model_folder/metadata.json\", \"w\") as file:\n    json.dump(model_metadata, file)\n```\n## Upload to HuggingFaceHub\n\nWe'll now upload this folder to HFH using the web interface.\n\nFirst, go to https://huggingface.co/ and make an account. Once you've logged in, press\n``+`` then ``New model`` or find ``+ New Model`` in the user menu. You will be asked\nto enter a model name, to choose a license for the model and whether the model should\nbe public or private. After you have made these choices, press ``Create Model``.\n\nYou should be on your model's landing page, whose header looks something like\n\n<img src=\"file://../../images/initial_model_screen.png\" width=\"550\" align=\"center\" alt=\"The page shown on HuggingFaceHub when a user first initialises a model\">\n\nClick Files, then ``+ Add file`` then ``Upload file(s)``. You can then add your files to the repository. Upload these by pressing ``Commit changes to main``.\n\nYou are returned to the Files page, which should look similar to\n\n<img src=\"file://../../images/files_screen.png\" width=\"700\" align=\"center\" alt=\"The file list for a model HuggingFaceHub.\">\n\nLet's add some information about the model for users to see when they go on your model's\npage. Click on ``Model card`` then ``Edit model card``. Here is a sample model card for\nFor a model based on synthetically generated tetrode data,\n\n```\n---\nlicense: mit\n---\n\n##\u00a0Model description\n\nA toy model, trained on toy data generated from spikeinterface.\n\n# Intended use\n\nUsed to try out automated curation in SpikeInterface.\n\n# How to Get Started with the Model\n\nThis can be used to automatically label a sorting in spikeinterface. Provided you have a `sorting_analyzer`, it is used as follows\n\n` ` ` python (NOTE: you should remove the spaces between each backtick. This is just formatting for the notebook you are reading)\n\n    from spikeinterface.curation import auto_label_units\n    labels = auto_label_units(\n        sorting_analyzer = sorting_analyzer,\n        repo_id = \"SpikeInterface/toy_tetrode_model\",\n        trust_model=True\n    )\n` ` `\n\nor you can download the entire repositry to `a_folder_for_a_model`, and use\n\n` ` ` python\n    from spikeinterface.curation import auto_label_units\n\n    labels = auto_label_units(\n        sorting_analyzer = sorting_analyzer,\n        model_folder = \"path/to/a_folder_for_a_model\",\n        trusted = ['numpy.dtype']\n    )\n` ` `\n\n# Authors\n\nChris Halcrow\n```\nYou can see the repo with this [Model card](https://huggingface.co/SpikeInterface/toy_tetrode_model).\n\n"
      ]
    }
  ],
  "metadata": {
    "kernelspec": {
      "display_name": "Python 3",
      "language": "python",
      "name": "python3"
    },
    "language_info": {
      "codemirror_mode": {
        "name": "ipython",
        "version": 3
      },
      "file_extension": ".py",
      "mimetype": "text/x-python",
      "name": "python",
      "nbconvert_exporter": "python",
      "pygments_lexer": "ipython3",
      "version": "3.10.17"
    }
  },
  "nbformat": 4,
  "nbformat_minor": 0
}