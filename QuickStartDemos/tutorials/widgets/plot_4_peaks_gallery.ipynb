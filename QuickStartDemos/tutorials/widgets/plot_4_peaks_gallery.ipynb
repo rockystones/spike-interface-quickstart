{
  "cells": [
    {
      "cell_type": "markdown",
      "metadata": {},
      "source": [
        "\n# Peaks Widgets Gallery\n\nSome widgets are useful before sorting and works with the \"peaks\" given by the detect_peaks()\nfunction.\n\nThey are useful to check drift before running sorters.\n"
      ]
    },
    {
      "cell_type": "code",
      "execution_count": null,
      "metadata": {
        "collapsed": false
      },
      "outputs": [],
      "source": [
        "import matplotlib.pyplot as plt\n\nimport spikeinterface.full as si"
      ]
    },
    {
      "cell_type": "markdown",
      "metadata": {},
      "source": [
        "First, let's download a simulated dataset\nfrom the repo 'https://gin.g-node.org/NeuralEnsemble/ephy_testing_data'\n\n"
      ]
    },
    {
      "cell_type": "code",
      "execution_count": null,
      "metadata": {
        "collapsed": false
      },
      "outputs": [],
      "source": [
        "local_path = si.download_dataset(remote_path=\"mearec/mearec_test_10s.h5\")\nrec, sorting = si.read_mearec(local_path)"
      ]
    },
    {
      "cell_type": "markdown",
      "metadata": {},
      "source": [
        "Let's filter and detect peaks on it\n\n"
      ]
    },
    {
      "cell_type": "code",
      "execution_count": null,
      "metadata": {
        "collapsed": false
      },
      "outputs": [],
      "source": [
        "from spikeinterface.sortingcomponents.peak_detection import detect_peaks\n\nrec_filtred = si.bandpass_filter(recording=rec, freq_min=300.0, freq_max=6000.0, margin_ms=5.0)\nprint(rec_filtred)\npeaks = detect_peaks(\n    recording=rec_filtred,\n    method=\"locally_exclusive\",\n    peak_sign=\"neg\",\n    detect_threshold=6,\n    exclude_sweep_ms=0.3,\n    radius_um=100,\n    noise_levels=None,\n    random_chunk_kwargs={},\n    chunk_memory=\"10M\",\n    n_jobs=1,\n    progress_bar=True,\n)"
      ]
    },
    {
      "cell_type": "markdown",
      "metadata": {},
      "source": [
        "peaks is a numpy 1D array with structured dtype that contains several fields:\n\n"
      ]
    },
    {
      "cell_type": "code",
      "execution_count": null,
      "metadata": {
        "collapsed": false
      },
      "outputs": [],
      "source": [
        "print(peaks.dtype)\nprint(peaks.shape)\nprint(peaks.dtype.fields.keys())"
      ]
    },
    {
      "cell_type": "markdown",
      "metadata": {},
      "source": [
        "This \"peaks\" vector can be used in several widgets, for instance\nplot_peak_activity()\n\n"
      ]
    },
    {
      "cell_type": "code",
      "execution_count": null,
      "metadata": {
        "collapsed": false
      },
      "outputs": [],
      "source": [
        "si.plot_peak_activity(recording=rec_filtred, peaks=peaks)\n\nplt.show()"
      ]
    },
    {
      "cell_type": "markdown",
      "metadata": {},
      "source": [
        "can be also animated with bin_duration_s=1.\n\n"
      ]
    },
    {
      "cell_type": "code",
      "execution_count": null,
      "metadata": {
        "collapsed": false
      },
      "outputs": [],
      "source": [
        "si.plot_peak_activity(recording=rec_filtred, peaks=peaks, bin_duration_s=1.0)\n\n\nplt.show()"
      ]
    }
  ],
  "metadata": {
    "kernelspec": {
      "display_name": "Python 3",
      "language": "python",
      "name": "python3"
    },
    "language_info": {
      "codemirror_mode": {
        "name": "ipython",
        "version": 3
      },
      "file_extension": ".py",
      "mimetype": "text/x-python",
      "name": "python",
      "nbconvert_exporter": "python",
      "pygments_lexer": "ipython3",
      "version": "3.10.17"
    }
  },
  "nbformat": 4,
  "nbformat_minor": 0
}