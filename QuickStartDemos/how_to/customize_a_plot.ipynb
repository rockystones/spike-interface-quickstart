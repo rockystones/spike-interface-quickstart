{
 "cells": [
  {
   "cell_type": "markdown",
   "id": "c60ba7b5",
   "metadata": {},
   "source": [
    "# Customize a plot"
   ]
  },
  {
   "cell_type": "markdown",
   "id": "e4839744",
   "metadata": {},
   "source": [
    "The `SpikeInterface` widgets are designed to have reasonable default plotting options, but\n",
    "sometimes you'll want to make adjustments to the plots. The plotting functions all return\n",
    "a `Widget` object. These contain and give you access to the underlying matplotlib figure\n",
    "and axis, which you can apply any matplotlib machinery to. Let's see how to do this in an\n",
    "example, by first making some synthetic data and computing extensions which can be used for plotting."
   ]
  },
  {
   "cell_type": "code",
   "execution_count": null,
   "id": "47f93668",
   "metadata": {},
   "outputs": [],
   "source": [
    "import spikeinterface.full as si\n",
    "import matplotlib.pyplot as plt\n",
    "\n",
    "recording, sorting = si.generate_ground_truth_recording(seed=1205)\n",
    "sorting_analyzer = si.create_sorting_analyzer(sorting=sorting, recording=recording)\n",
    "sorting_analyzer.compute({\"random_spikes\": {'seed': 1205}, \"templates\": {}, \"unit_locations\": {}})\n",
    "\n",
    "unit_locations = sorting_analyzer.get_extension(\"unit_locations\").get_data()"
   ]
  },
  {
   "cell_type": "markdown",
   "id": "dbae31c9",
   "metadata": {},
   "source": [
    "Now we can plot the `unit_locations` and `unit_templates` using the appropriate widgets\n",
    "(see the  [full list of widgets](https://spikeinterface.readthedocs.io/en/stable/modules/widgets.html#available-plotting-functions)\n",
    "for more!). These functions output a `Widget object`.  We'll assign the unit locations widget to `fig_units`."
   ]
  },
  {
   "cell_type": "code",
   "execution_count": null,
   "id": "030c185d",
   "metadata": {},
   "outputs": [],
   "source": [
    "fig_units = si.plot_unit_locations(sorting_analyzer)\n",
    "\n",
    "# Each widget contains a `matplotlib` figure and axis:\n",
    "print(type(fig_units.figure))\n",
    "print(type(fig_units.ax))"
   ]
  },
  {
   "cell_type": "markdown",
   "id": "27238a9a",
   "metadata": {},
   "source": [
    "By gaining access to the matplotlib objects, we are able to utilize the full `matplotlib`\n",
    "machinery: adding custom titles, axis labels, ticks, more plots etc. Let's customize\n",
    "our unit locations plot. (Note: the `SpikeInterface` Team does not endorse the following style conventions):"
   ]
  },
  {
   "cell_type": "code",
   "execution_count": null,
   "id": "766b05fe",
   "metadata": {},
   "outputs": [],
   "source": [
    "# Get the widget\n",
    "fig_units = si.plot_unit_locations(sorting_analyzer)\n",
    "\n",
    "# Modify the widget's `axis`` to set the title and axes labels\n",
    "fig_units.ax.set_title(\"My favorite units\", fontname = \"Comic Sans MS\")\n",
    "fig_units.ax.set_xlabel(\"x probe location (um)\")\n",
    "fig_units.ax.set_ylabel(\"y probe location (um)\")\n",
    "\n",
    "# You can also set custom ticks\n",
    "fig_units.ax.set_xticks([-60,-30,unit_locations[0,0],30,60])\n",
    "fig_units.ax.set_xticklabels([-60,-30,\"unit_0_x\",30,60])\n",
    "fig_units.ax.set_yticks([-40,-20,0,unit_locations[0,1],40])\n",
    "fig_units.ax.set_yticklabels([-40,-20,0,\"unit_0_y\",40])\n",
    "\n",
    "# Change the limits of the plot\n",
    "fig_units.ax.set_xlim((-30,50))\n",
    "fig_units.ax.set_ylim((-50,50))\n",
    "\n",
    "# And add extra information on the plot\n",
    "fig_units.ax.text(unit_locations[6,0], unit_locations[6,1]+5, s=\"UNIT 6!!!\", fontname=\"Courier\")\n",
    "\n",
    "fig_units"
   ]
  },
  {
   "cell_type": "markdown",
   "id": "7971bffa",
   "metadata": {},
   "source": [
    "Beautiful!!!\n",
    "\n",
    "You can also combine figures into a multi-figure plot. The easiest way to do this is to set up your\n",
    "figure and axes first, then tell `SpikeInterface` which axes it should attach the widget plot to.\n",
    "Here's an example of making a unit summary plot."
   ]
  },
  {
   "cell_type": "code",
   "execution_count": null,
   "id": "008b1aa3",
   "metadata": {},
   "outputs": [],
   "source": [
    "import matplotlib.pyplot as plt\n",
    "fig, axs = plt.subplots(ncols=2, nrows=1)\n",
    "\n",
    "unit_id=8\n",
    "si.plot_unit_locations(sorting_analyzer=sorting_analyzer, ax=axs[0])\n",
    "si.plot_unit_templates(sorting_analyzer, axes=[axs[1]], unit_ids=[f'{unit_id}'])\n",
    "\n",
    "axs[0].plot([unit_locations[8,0], unit_locations[8,0]+50], [unit_locations[8,1], unit_locations[8,1]+50])\n",
    "axs[0].text(unit_locations[8,0]+52, unit_locations[8,1]+52, s=f\"Unit {unit_id}\")\n",
    "axs[0].set_title(\"Unit location\", fontsize=10)\n",
    "\n",
    "fig.suptitle(f\"Unit {unit_id} summary\", fontfamily=\"Comic Sans MS\", fontsize=20)\n",
    "\n",
    "fig.tight_layout()"
   ]
  },
  {
   "cell_type": "markdown",
   "id": "90c23e80",
   "metadata": {},
   "source": [
    "For more details on what you can do using matplotlib, check out their [extensive documentation](https://matplotlib.org/stable/)"
   ]
  }
 ],
 "metadata": {
  "jupytext": {
   "cell_metadata_filter": "-all",
   "formats": "py:light,ipynb"
  },
  "kernelspec": {
   "display_name": ".venv",
   "language": "python",
   "name": "python3"
  }
 },
 "nbformat": 4,
 "nbformat_minor": 5
}
