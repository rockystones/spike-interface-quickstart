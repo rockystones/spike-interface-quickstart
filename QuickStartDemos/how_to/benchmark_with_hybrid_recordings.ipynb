{
 "cells": [
  {
   "cell_type": "markdown",
   "id": "7d44e467",
   "metadata": {},
   "source": [
    "# Benchmark spike sorting with hybrid recordings\n",
    "\n",
    "This example shows how to use the SpikeInterface hybrid recordings framework to benchmark spike sorting results.\n",
    "\n",
    "Hybrid recordings are built from existing recordings by injecting units with known spiking activity.\n",
    "The template (aka average waveforms) of the injected units can be from previous spike sorted data.\n",
    "In this example, we will be using an open database of templates that we have constructed from the International Brain Laboratory - Brain Wide Map (available on [DANDI](https://dandiarchive.org/dandiset/000409?search=IBL&page=2&sortOption=0&sortDir=-1&showDrafts=true&showEmpty=false&pos=9)).\n",
    "\n",
    "Importantly, recordings from long-shank probes, such as Neuropixels, usually experience drifts. Such drifts have to be taken into account in order to smoothly inject spikes into the recording."
   ]
  },
  {
   "cell_type": "code",
   "execution_count": null,
   "id": "5e1dc422",
   "metadata": {},
   "outputs": [],
   "source": [
    "import spikeinterface as si\n",
    "import spikeinterface.extractors as se\n",
    "import spikeinterface.preprocessing as spre\n",
    "import spikeinterface.comparison as sc\n",
    "import spikeinterface.generation as sgen\n",
    "import spikeinterface.widgets as sw\n",
    "\n",
    "from spikeinterface.sortingcomponents.motion import estimate_motion\n",
    "\n",
    "import numpy as np\n",
    "import matplotlib.pyplot as plt\n",
    "from pathlib import Path"
   ]
  },
  {
   "cell_type": "code",
   "execution_count": null,
   "id": "9f97e63a",
   "metadata": {},
   "outputs": [],
   "source": [
    "%matplotlib inline"
   ]
  },
  {
   "cell_type": "code",
   "execution_count": null,
   "id": "07ce5cc8",
   "metadata": {},
   "outputs": [],
   "source": [
    "si.set_global_job_kwargs(n_jobs=16)"
   ]
  },
  {
   "cell_type": "markdown",
   "id": "5293d1e2",
   "metadata": {},
   "source": [
    "For this notebook, we will use a drifting recording similar to the one acquired by Nick Steinmetz and available [here](https://doi.org/10.6084/m9.figshare.14024495.v1), where an triangular motion was imposed to the recording by moving the probe up and down with a micro-manipulator."
   ]
  },
  {
   "cell_type": "code",
   "execution_count": null,
   "id": "ba668688",
   "metadata": {},
   "outputs": [],
   "source": [
    "workdir = Path(\"/ssd980/working/hybrid/steinmetz_imposed_motion\")\n",
    "workdir.mkdir(exist_ok=True)"
   ]
  },
  {
   "cell_type": "code",
   "execution_count": null,
   "id": "b7deecb2",
   "metadata": {},
   "outputs": [],
   "source": [
    "recording_np1_imposed = se.read_spikeglx(\"/hdd1/data/spikeglx/nick-steinmetz/dataset1/p1_g0_t0/\")\n",
    "recording_preproc = spre.highpass_filter(recording_np1_imposed)\n",
    "recording_preproc = spre.common_reference(recording_preproc)"
   ]
  },
  {
   "cell_type": "markdown",
   "id": "f6a1408c",
   "metadata": {},
   "source": [
    "To visualize the drift, we can estimate the motion and plot it:"
   ]
  },
  {
   "cell_type": "code",
   "execution_count": null,
   "id": "47c4f969",
   "metadata": {},
   "outputs": [],
   "source": [
    "# to correct for drift, we need a float dtype\n",
    "recording_preproc = spre.astype(recording_preproc, \"float\")\n",
    "_, motion_info = spre.correct_motion(\n",
    "    recording_preproc, preset=\"nonrigid_fast_and_accurate\", n_jobs=4, progress_bar=True, output_motion_info=True\n",
    ")"
   ]
  },
  {
   "cell_type": "code",
   "execution_count": null,
   "id": "e7041094",
   "metadata": {},
   "outputs": [],
   "source": [
    "ax = sw.plot_drift_raster_map(\n",
    "    peaks=motion_info[\"peaks\"],\n",
    "    peak_locations=motion_info[\"peak_locations\"],\n",
    "    recording=recording_preproc,\n",
    "    cmap=\"Greys_r\",\n",
    "    scatter_decimate=10,\n",
    "    depth_lim=(-10, 3000)\n",
    ")"
   ]
  },
  {
   "cell_type": "markdown",
   "id": "da8f87c3",
   "metadata": {},
   "source": [
    "## Retrieve templates from database"
   ]
  },
  {
   "cell_type": "code",
   "execution_count": null,
   "id": "f030acf2",
   "metadata": {},
   "outputs": [],
   "source": [
    "templates_info = sgen.fetch_templates_database_info()\n",
    "\n",
    "print(f\"Number of templates in database: {len(templates_info)}\")\n",
    "print(f\"Template database columns: {templates_info.columns}\")"
   ]
  },
  {
   "cell_type": "code",
   "execution_count": null,
   "id": "ee0fa95e",
   "metadata": {},
   "outputs": [],
   "source": [
    "available_brain_areas = np.unique(templates_info.brain_area)\n",
    "print(f\"Available brain areas: {available_brain_areas}\")"
   ]
  },
  {
   "cell_type": "markdown",
   "id": "d2261571",
   "metadata": {},
   "source": [
    "Let's perform a query: templates from visual brain regions and at the \"top\" of the probe"
   ]
  },
  {
   "cell_type": "code",
   "execution_count": null,
   "id": "c0391fc7",
   "metadata": {},
   "outputs": [],
   "source": [
    "target_area = [\"VISa5\", \"VISa6a\", \"VISp5\", \"VISp6a\", \"VISrl6b\"]\n",
    "minimum_depth = 1500\n",
    "templates_selected_info = templates_info.query(f\"brain_area in {target_area} and depth_along_probe > {minimum_depth}\")\n",
    "len(templates_selected_info)"
   ]
  },
  {
   "cell_type": "markdown",
   "id": "6ec49143",
   "metadata": {},
   "source": [
    "We can now retrieve the selected templates as a `Templates` object:"
   ]
  },
  {
   "cell_type": "code",
   "execution_count": null,
   "id": "f9d29ea1",
   "metadata": {},
   "outputs": [],
   "source": [
    "templates_selected = sgen.query_templates_from_database(templates_selected_info, verbose=True)\n",
    "print(templates_selected)"
   ]
  },
  {
   "cell_type": "markdown",
   "id": "f4a6c43e",
   "metadata": {},
   "source": [
    "While we selected templates from a target aread and at certain depths, we can see that the template amplitudes are quite large. This will make spike sorting easy... we can further manipulate the `Templates` by rescaling, relocating, or further selections with the `sgen.scale_template_to_range`, `sgen.relocate_templates`, and `sgen.select_templates` functions.\n",
    "\n",
    "In our case, let's rescale the amplitudes between 50 and 150 $\\mu$V and relocate them towards the bottom half of the probe, where the activity looks interesting!"
   ]
  },
  {
   "cell_type": "code",
   "execution_count": null,
   "id": "54d614ac",
   "metadata": {},
   "outputs": [],
   "source": [
    "min_amplitude = 50\n",
    "max_amplitude = 150\n",
    "templates_scaled = sgen.scale_template_to_range(\n",
    "    templates=templates_selected,\n",
    "    min_amplitude=min_amplitude,\n",
    "    max_amplitude=max_amplitude\n",
    ")\n",
    "\n",
    "min_displacement = 1000\n",
    "max_displacement = 3000\n",
    "templates_relocated = sgen.relocate_templates(\n",
    "    templates=templates_scaled,\n",
    "    min_displacement=min_displacement,\n",
    "    max_displacement=max_displacement\n",
    ")"
   ]
  },
  {
   "cell_type": "markdown",
   "id": "1ab9fa2e",
   "metadata": {},
   "source": [
    "Let's plot the selected templates:"
   ]
  },
  {
   "cell_type": "code",
   "execution_count": null,
   "id": "a0df79e5",
   "metadata": {},
   "outputs": [],
   "source": [
    "sparsity_plot = si.compute_sparsity(templates_relocated)\n",
    "fig = plt.figure(figsize=(10, 10))\n",
    "w = sw.plot_unit_templates(templates_relocated, sparsity=sparsity_plot, ncols=4, figure=fig)\n",
    "w.figure.subplots_adjust(wspace=0.5, hspace=0.7)"
   ]
  },
  {
   "cell_type": "markdown",
   "id": "d87a8e10",
   "metadata": {},
   "source": [
    "## Constructing hybrid recordings\n",
    "\n",
    "We can construct now hybrid recordings with the selected templates.\n",
    "\n",
    "We will do this in two ways to show how important it is to account for drifts when injecting hybrid spikes.\n",
    "\n",
    "- For the first recording we will not pass the estimated motion (`recording_hybrid_ignore_drift`).\n",
    "- For the second recording, we will pass and account for the estimated motion (`recording_hybrid_with_drift`)."
   ]
  },
  {
   "cell_type": "code",
   "execution_count": null,
   "id": "3e2d4701",
   "metadata": {},
   "outputs": [],
   "source": [
    "recording_hybrid_ignore_drift, sorting_hybrid = sgen.generate_hybrid_recording(\n",
    "    recording=recording_preproc, templates=templates_relocated, seed=2308\n",
    ")\n",
    "recording_hybrid_ignore_drift"
   ]
  },
  {
   "cell_type": "markdown",
   "id": "9d809956",
   "metadata": {},
   "source": [
    "Note that the `generate_hybrid_recording` is warning us that we might want to account for drift!"
   ]
  },
  {
   "cell_type": "code",
   "execution_count": null,
   "id": "78ead432",
   "metadata": {},
   "outputs": [],
   "source": [
    "# by passing the `sorting_hybrid` object, we make sure that injected spikes are the same\n",
    "# this will take a bit more time because it's interpolating the templates to account for drifts\n",
    "recording_hybrid_with_drift, sorting_hybrid = sgen.generate_hybrid_recording(\n",
    "    recording=recording_preproc,\n",
    "    templates=templates_relocated,\n",
    "    motion=motion_info[\"motion\"],\n",
    "    sorting=sorting_hybrid,\n",
    "    seed=2308,\n",
    ")\n",
    "recording_hybrid_with_drift"
   ]
  },
  {
   "cell_type": "markdown",
   "id": "4c328453",
   "metadata": {},
   "source": [
    "We can use the `SortingAnalyzer` to estimate spike locations and plot them:"
   ]
  },
  {
   "cell_type": "code",
   "execution_count": null,
   "id": "eab60da5",
   "metadata": {},
   "outputs": [],
   "source": [
    "# construct analyzers and compute spike locations\n",
    "analyzer_hybrid_ignore_drift = si.create_sorting_analyzer(sorting_hybrid, recording_hybrid_ignore_drift)\n",
    "analyzer_hybrid_ignore_drift.compute([\"random_spikes\", \"templates\"])\n",
    "analyzer_hybrid_ignore_drift.compute(\"spike_locations\", method=\"grid_convolution\")\n",
    "\n",
    "analyzer_hybrid_with_drift = si.create_sorting_analyzer(sorting_hybrid, recording_hybrid_with_drift)\n",
    "analyzer_hybrid_with_drift.compute([\"random_spikes\", \"templates\"])\n",
    "analyzer_hybrid_with_drift.compute(\"spike_locations\", method=\"grid_convolution\")"
   ]
  },
  {
   "cell_type": "markdown",
   "id": "6cb695ae",
   "metadata": {},
   "source": [
    "Let's plot the added hybrid spikes using the drift maps:"
   ]
  },
  {
   "cell_type": "code",
   "execution_count": null,
   "id": "97c2d7dc",
   "metadata": {},
   "outputs": [],
   "source": [
    "fig, axs = plt.subplots(ncols=2, figsize=(10, 7), sharex=True, sharey=True)\n",
    "_ = sw.plot_drift_raster_map(\n",
    "    peaks=motion_info[\"peaks\"],\n",
    "    peak_locations=motion_info[\"peak_locations\"],\n",
    "    recording=recording_preproc,\n",
    "    cmap=\"Greys_r\",\n",
    "    scatter_decimate=10,\n",
    "    ax=axs[0],\n",
    ")\n",
    "_ = sw.plot_drift_raster_map(\n",
    "    sorting_analyzer=analyzer_hybrid_ignore_drift,\n",
    "    color_amplitude=False,\n",
    "    color=\"r\",\n",
    "    scatter_decimate=10,\n",
    "    ax=axs[0]\n",
    ")\n",
    "_ = sw.plot_drift_raster_map(\n",
    "    peaks=motion_info[\"peaks\"],\n",
    "    peak_locations=motion_info[\"peak_locations\"],\n",
    "    recording=recording_preproc,\n",
    "    cmap=\"Greys_r\",\n",
    "    scatter_decimate=10,\n",
    "    ax=axs[1],\n",
    ")\n",
    "_ = sw.plot_drift_raster_map(\n",
    "    sorting_analyzer=analyzer_hybrid_with_drift,\n",
    "    color_amplitude=False,\n",
    "    color=\"b\",\n",
    "    scatter_decimate=10,\n",
    "    ax=axs[1]\n",
    ")\n",
    "axs[0].set_title(\"Hybrid spikes\\nIgnoring drift\")\n",
    "axs[1].set_title(\"Hybrid spikes\\nAccounting for drift\")\n",
    "axs[0].set_xlim(1000, 1500)\n",
    "axs[0].set_ylim(500, 2500)"
   ]
  },
  {
   "cell_type": "markdown",
   "id": "439c9ba4",
   "metadata": {},
   "source": [
    "We can see that clearly following drift is essential in order to properly blend the hybrid spikes into the recording!"
   ]
  },
  {
   "cell_type": "markdown",
   "id": "c92d6786",
   "metadata": {},
   "source": [
    "## Ground-truth study\n",
    "\n",
    "In this section we will use the hybrid recording to benchmark a few spike sorters:\n",
    "\n",
    "- `Kilosort2.5`\n",
    "- `Kilosort3`\n",
    "- `Kilosort4`\n",
    "- `Spyking-CIRCUS 2`"
   ]
  },
  {
   "cell_type": "code",
   "execution_count": null,
   "id": "774e3688",
   "metadata": {},
   "outputs": [],
   "source": [
    "# to speed up computations, let's first dump the recording to binary\n",
    "recording_hybrid_bin = recording_hybrid_with_drift.save(\n",
    "    folder=workdir / \"hybrid_bin\",\n",
    "    overwrite=True\n",
    ")"
   ]
  },
  {
   "cell_type": "code",
   "execution_count": null,
   "id": "0bb19139",
   "metadata": {},
   "outputs": [],
   "source": [
    "datasets = {\n",
    "    \"hybrid\": (recording_hybrid_bin, sorting_hybrid),\n",
    "}\n",
    "\n",
    "cases = {\n",
    "    (\"kilosort2.5\", \"hybrid\"): {\n",
    "        \"label\": \"KS2.5\",\n",
    "        \"dataset\": \"hybrid\",\n",
    "        \"run_sorter_params\": {\n",
    "            \"sorter_name\": \"kilosort2_5\",\n",
    "        },\n",
    "    },\n",
    "    (\"kilosort3\", \"hybrid\"): {\n",
    "        \"label\": \"KS3\",\n",
    "        \"dataset\": \"hybrid\",\n",
    "        \"run_sorter_params\": {\n",
    "            \"sorter_name\": \"kilosort3\",\n",
    "        },\n",
    "    },\n",
    "    (\"kilosort4\", \"hybrid\"): {\n",
    "        \"label\": \"KS4\",\n",
    "        \"dataset\": \"hybrid\",\n",
    "        \"run_sorter_params\": {\"sorter_name\": \"kilosort4\", \"nblocks\": 5},\n",
    "    },\n",
    "    (\"sc2\", \"hybrid\"): {\n",
    "        \"label\": \"spykingcircus2\",\n",
    "        \"dataset\": \"hybrid\",\n",
    "        \"run_sorter_params\": {\n",
    "            \"sorter_name\": \"spykingcircus2\",\n",
    "        },\n",
    "    },\n",
    "}"
   ]
  },
  {
   "cell_type": "code",
   "execution_count": null,
   "id": "a3f55b02",
   "metadata": {},
   "outputs": [],
   "source": [
    "study_folder = workdir / \"gt_study\"\n",
    "\n",
    "gtstudy = sc.GroundTruthStudy(study_folder)\n"
   ]
  },
  {
   "cell_type": "code",
   "execution_count": null,
   "id": "05eaf612",
   "metadata": {},
   "outputs": [],
   "source": [
    "# run the spike sorting jobs\n",
    "gtstudy.run_sorters(verbose=False, keep=True)"
   ]
  },
  {
   "cell_type": "code",
   "execution_count": null,
   "id": "f9d5ecb2",
   "metadata": {},
   "outputs": [],
   "source": [
    "# run the comparisons\n",
    "gtstudy.run_comparisons(exhaustive_gt=False)"
   ]
  },
  {
   "cell_type": "markdown",
   "id": "73bcd235",
   "metadata": {},
   "source": [
    "## Plot performances\n",
    "\n",
    "Given that we know the exactly where we injected the hybrid spikes, we can now compute and plot performance metrics: accuracy, precision, and recall.\n",
    "\n",
    "In the following plot, the x axis is the unit index, while the y axis is the performance metric. The units are sorted by performance."
   ]
  },
  {
   "cell_type": "code",
   "execution_count": null,
   "id": "5579ceb0",
   "metadata": {},
   "outputs": [],
   "source": [
    "w_perf = sw.plot_study_performances(gtstudy, figsize=(12, 7))\n",
    "w_perf.axes[0, 0].legend(loc=4)"
   ]
  },
  {
   "cell_type": "markdown",
   "id": "9a957e25",
   "metadata": {},
   "source": [
    "From the performance plots, we can see that there is no clear \"winner\", but `Kilosort3` definitely performs worse than the other options.\n",
    "\n",
    "Although non of the sorters find all units perfectly, `Kilosort2.5`, `Kilosort4`, and `SpyKING CIRCUS 2` all find around 10-12 hybrid units with accuracy greater than 80%.\n",
    "`Kilosort4` has a better overall curve, being able to find almost all units with an accuracy above 50%. `Kilosort2.5` performs well when looking at precision (not finding spikes\n",
    "when it shouldn’t), but it has a lower recall (finding all spikes in the ground truth).\n",
    "\n",
    "\n",
    "In this example, we showed how to:\n",
    "\n",
    "- Access and fetch templates from the SpikeInterface template database\n",
    "- Manipulate templates (scaling/relocating)\n",
    "- Construct hybrid recordings accounting for drifts\n",
    "- Use the `GroundTruthStudy` to benchmark different sorters\n",
    "\n",
    "The hybrid framework can be extended to target multiple recordings from different brain regions and species and creating recordings of increasing complexity to challenge the existing sorters!\n",
    "\n",
    "In addition, hybrid studies can also be used to fine-tune spike sorting parameters on specific datasets.\n",
    "\n",
    "**Are you ready to try it on your data?**"
   ]
  }
 ],
 "metadata": {
  "jupytext": {
   "cell_metadata_filter": "-all",
   "formats": "ipynb,py"
  },
  "kernelspec": {
   "display_name": "Python 3 (ipykernel)",
   "language": "python",
   "name": "python3"
  }
 },
 "nbformat": 4,
 "nbformat_minor": 5
}
