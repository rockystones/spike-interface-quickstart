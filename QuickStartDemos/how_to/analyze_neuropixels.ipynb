{
 "cells": [
  {
   "cell_type": "markdown",
   "id": "3af5733a",
   "metadata": {},
   "source": [
    "# Analyze Neuropixels datasets\n",
    "\n",
    "This example shows how to perform Neuropixels-specific analysis, including custom pre- and post-processing."
   ]
  },
  {
   "cell_type": "code",
   "execution_count": null,
   "id": "36f147c5",
   "metadata": {},
   "outputs": [],
   "source": [
    "%matplotlib inline"
   ]
  },
  {
   "cell_type": "code",
   "execution_count": null,
   "id": "833c69f4",
   "metadata": {},
   "outputs": [],
   "source": [
    "import spikeinterface.full as si\n",
    "\n",
    "import numpy as np\n",
    "import matplotlib.pyplot as plt\n",
    "from pathlib import Path"
   ]
  },
  {
   "cell_type": "code",
   "execution_count": null,
   "id": "b534810e",
   "metadata": {},
   "outputs": [],
   "source": [
    "base_folder = Path('/mnt/data/sam/DataSpikeSorting/howto_si/neuropixel_example/')\n",
    "\n",
    "spikeglx_folder = base_folder / 'Rec_1_10_11_2021_g0'\n"
   ]
  },
  {
   "cell_type": "markdown",
   "id": "c1d91888",
   "metadata": {},
   "source": [
    "## Read the data\n",
    "\n",
    "The `SpikeGLX` folder can contain several \"streams\" (AP, LF and NIDQ).\n",
    "We need to specify which one to read:\n"
   ]
  },
  {
   "cell_type": "code",
   "execution_count": null,
   "id": "ff10909c",
   "metadata": {},
   "outputs": [],
   "source": [
    "stream_names, stream_ids = si.get_neo_streams('spikeglx', spikeglx_folder)\n",
    "stream_names"
   ]
  },
  {
   "cell_type": "code",
   "execution_count": null,
   "id": "4be427c9",
   "metadata": {},
   "outputs": [],
   "source": [
    "# we do not load the sync channel, so the probe is automatically loaded\n",
    "raw_rec = si.read_spikeglx(spikeglx_folder, stream_name='imec0.ap', load_sync_channel=False)\n",
    "raw_rec"
   ]
  },
  {
   "cell_type": "code",
   "execution_count": null,
   "id": "7b7f7998",
   "metadata": {},
   "outputs": [],
   "source": [
    "# we automaticaly have the probe loaded!\n",
    "raw_rec.get_probe().to_dataframe()"
   ]
  },
  {
   "cell_type": "code",
   "execution_count": null,
   "id": "65a522aa",
   "metadata": {},
   "outputs": [],
   "source": [
    "fig, ax = plt.subplots(figsize=(15, 10))\n",
    "si.plot_probe_map(raw_rec, ax=ax, with_channel_ids=True)\n",
    "ax.set_ylim(-100, 100)"
   ]
  },
  {
   "cell_type": "markdown",
   "id": "c1f7b4d4",
   "metadata": {},
   "source": [
    "## Preprocess the recording\n",
    "\n",
    "Let's do something similar to the IBL destriping chain (See :ref:`ibl_destripe`) to preprocess the data but:\n",
    "\n",
    " * instead of interpolating bad channels, we remove then.\n",
    " * instead of highpass_spatial_filter() we use common_reference()\n"
   ]
  },
  {
   "cell_type": "code",
   "execution_count": null,
   "id": "e2fb84fb",
   "metadata": {},
   "outputs": [],
   "source": [
    "rec1 = si.highpass_filter(raw_rec, freq_min=400.)\n",
    "bad_channel_ids, channel_labels = si.detect_bad_channels(rec1)\n",
    "rec2 = rec1.remove_channels(bad_channel_ids)\n",
    "print('bad_channel_ids', bad_channel_ids)\n",
    "\n",
    "rec3 = si.phase_shift(rec2)\n",
    "rec4 = si.common_reference(rec3, operator=\"median\", reference=\"global\")\n",
    "rec = rec4\n",
    "rec"
   ]
  },
  {
   "cell_type": "markdown",
   "id": "b618b977",
   "metadata": {},
   "source": [
    "## Visualize the preprocessing steps"
   ]
  },
  {
   "cell_type": "markdown",
   "id": "cacc4c58",
   "metadata": {},
   "source": [
    "\n",
    "\n",
    "Interactive explore the preprocess steps could de done with this with the ipywydgets interactive ploter\n",
    "\n",
    "```python\n",
    "%matplotlib widget\n",
    "si.plot_traces({'filter':rec1, 'cmr': rec4}, backend='ipywidgets')\n",
    "```\n",
    "\n",
    "Note that using this ipywydgets make possible to explore diffrents preprocessing chain wihtout to save the entire file to disk.\n",
    "Everything is lazy, so you can change the previsous cell (parameters, step order, ...) and visualize it immediatly.\n",
    "\n"
   ]
  },
  {
   "cell_type": "code",
   "execution_count": null,
   "id": "8eacc98b",
   "metadata": {},
   "outputs": [],
   "source": [
    "# here we use static plot using matplotlib backend\n",
    "fig, axs = plt.subplots(ncols=3, figsize=(20, 10))\n",
    "\n",
    "si.plot_traces(rec1, backend='matplotlib',  clim=(-50, 50), ax=axs[0])\n",
    "si.plot_traces(rec4, backend='matplotlib',  clim=(-50, 50), ax=axs[1])\n",
    "si.plot_traces(rec, backend='matplotlib',  clim=(-50, 50), ax=axs[2])\n",
    "for i, label in enumerate(('filter', 'cmr', 'final')):\n",
    "    axs[i].set_title(label)"
   ]
  },
  {
   "cell_type": "code",
   "execution_count": null,
   "id": "3edd48b6",
   "metadata": {
    "lines_to_next_cell": 2
   },
   "outputs": [],
   "source": [
    "# plot some channels\n",
    "fig, ax = plt.subplots(figsize=(20, 10))\n",
    "some_chans = rec.channel_ids[[100, 150, 200, ]]\n",
    "si.plot_traces({'filter':rec1, 'cmr': rec4}, backend='matplotlib', mode='line', ax=ax, channel_ids=some_chans)"
   ]
  },
  {
   "cell_type": "markdown",
   "id": "7e63d549",
   "metadata": {},
   "source": [
    "### Should we save the preprocessed data to a binary file?\n",
    "\n",
    "Depending on the machine, the I/O speed, and the number of times we will need to \"use\" the preprocessed recording, we can decide whether it is convenient to save the preprocessed recording to a file.\n",
    "\n",
    "Saving is not necessarily a good choice, as it consumes a lot of disk space and sometimes the writing to disk can be slower than recomputing the preprocessing chain on-the-fly.\n",
    "\n",
    "Here, we decide to do save it because Kilosort requires a binary file as input, so the preprocessed recording will need to be saved at some point.\n",
    "\n",
    "Depending on the complexity of the preprocessing chain, this operation can take a while. However, we can make use of the powerful parallelization mechanism of SpikeInterface."
   ]
  },
  {
   "cell_type": "code",
   "execution_count": null,
   "id": "cb0cfdec",
   "metadata": {},
   "outputs": [],
   "source": [
    "job_kwargs = dict(n_jobs=40, chunk_duration='1s', progress_bar=True)\n",
    "\n",
    "rec = rec.save(folder=base_folder / 'preprocess', format='binary', **job_kwargs)"
   ]
  },
  {
   "cell_type": "code",
   "execution_count": null,
   "id": "de6fd8e2",
   "metadata": {},
   "outputs": [],
   "source": [
    "# our recording now points to the new binary folder\n",
    "rec"
   ]
  },
  {
   "cell_type": "markdown",
   "id": "ca723b23",
   "metadata": {},
   "source": [
    "## Check spiking activity and drift before spike sorting\n",
    "\n",
    "A good practice before running a spike sorter is to check the \"peaks activity\" and the presence of drifts.\n",
    "\n",
    "SpikeInterface has several tools to:\n",
    "\n",
    "  * estimate the noise levels\n",
    "  * detect peaks (prior to sorting)\n",
    "  * estimate positions of peaks\n"
   ]
  },
  {
   "cell_type": "markdown",
   "id": "1c41dc91",
   "metadata": {},
   "source": [
    "### Check noise level\n",
    "\n",
    "Noise levels can be estimated on the scaled traces or on the raw (`int16`) traces.\n"
   ]
  },
  {
   "cell_type": "code",
   "execution_count": null,
   "id": "c33da409",
   "metadata": {
    "lines_to_next_cell": 2
   },
   "outputs": [],
   "source": [
    "# we can estimate the noise on the scaled traces (microV) or on the raw one (which is in our case int16).\n",
    "noise_levels_microV = si.get_noise_levels(rec, return_scaled=True)\n",
    "noise_levels_int16 = si.get_noise_levels(rec, return_scaled=False)"
   ]
  },
  {
   "cell_type": "code",
   "execution_count": null,
   "id": "c2381cf5",
   "metadata": {},
   "outputs": [],
   "source": [
    "fig, ax = plt.subplots()\n",
    "_ = ax.hist(noise_levels_microV, bins=np.arange(5, 30, 2.5))\n",
    "ax.set_xlabel('noise  [microV]')"
   ]
  },
  {
   "cell_type": "markdown",
   "id": "e5b74011",
   "metadata": {},
   "source": [
    "### Detect and localize peaks\n",
    "\n",
    "SpikeInterface includes built-in algorithms to detect peaks and also to localize their position.\n",
    "\n",
    "This is part of the **sortingcomponents** module and needs to be imported explicitly.\n",
    "\n",
    "The two functions (detect + localize):\n",
    "\n",
    "  * can be run parallel\n",
    "  * are very fast when the preprocessed recording is already saved (and a bit slower otherwise)\n",
    "  * implement several methods\n",
    "\n",
    "Let's use here the `locally_exclusive` method for detection and the `center_of_mass` for peak localization:"
   ]
  },
  {
   "cell_type": "code",
   "execution_count": null,
   "id": "d44e9a86",
   "metadata": {},
   "outputs": [],
   "source": [
    "from spikeinterface.sortingcomponents.peak_detection import detect_peaks\n",
    "\n",
    "job_kwargs = dict(n_jobs=40, chunk_duration='1s', progress_bar=True)\n",
    "peaks = detect_peaks(rec,  method='locally_exclusive', noise_levels=noise_levels_int16,\n",
    "                     detect_threshold=5, radius_um=50., **job_kwargs)\n",
    "peaks"
   ]
  },
  {
   "cell_type": "code",
   "execution_count": null,
   "id": "857c638c",
   "metadata": {},
   "outputs": [],
   "source": [
    "from spikeinterface.sortingcomponents.peak_localization import localize_peaks\n",
    "\n",
    "peak_locations = localize_peaks(rec, peaks, method='center_of_mass', radius_um=50., **job_kwargs)"
   ]
  },
  {
   "cell_type": "markdown",
   "id": "ed21c566",
   "metadata": {},
   "source": [
    "### Check for drifts\n",
    "\n",
    "We can *manually* check for drifts with a simple scatter plots of peak times VS estimated peak depths.\n",
    "\n",
    "In this example, we do not see any apparent drift.\n",
    "\n",
    "In case we notice apparent drifts in the recording, one can use the SpikeInterface modules to estimate and correct motion. See the documentation for motion estimation and correction for more details."
   ]
  },
  {
   "cell_type": "code",
   "execution_count": null,
   "id": "85728198",
   "metadata": {
    "lines_to_next_cell": 2
   },
   "outputs": [],
   "source": [
    "# check for drifts\n",
    "fs = rec.sampling_frequency\n",
    "fig, ax = plt.subplots(figsize=(10, 8))\n",
    "ax.scatter(peaks['sample_ind'] / fs, peak_locations['y'], color='k', marker='.',  alpha=0.002)"
   ]
  },
  {
   "cell_type": "code",
   "execution_count": null,
   "id": "af32ce71",
   "metadata": {},
   "outputs": [],
   "source": [
    "# we can also use the peak location estimates to have an insight of cluster separation before sorting\n",
    "fig, ax = plt.subplots(figsize=(15, 10))\n",
    "si.plot_probe_map(rec, ax=ax, with_channel_ids=True)\n",
    "ax.set_ylim(-100, 150)\n",
    "\n",
    "ax.scatter(peak_locations['x'], peak_locations['y'], color='purple', alpha=0.002)"
   ]
  },
  {
   "cell_type": "markdown",
   "id": "e50a83ad",
   "metadata": {},
   "source": [
    "## Run a spike sorter\n",
    "\n",
    "Even if running spike sorting is probably the most critical part of the pipeline, in SpikeInterface this is dead-simple: one function.\n",
    "\n",
    "**Important notes**:\n",
    "\n",
    "  * most of sorters are wrapped from external tools (kilosort, kisolort2.5, spykingcircus, montainsort4 ...) that often also need other requirements (e.g., MATLAB, CUDA)\n",
    "  * some sorters are internally developed (spyekingcircus2)\n",
    "  * external sorter can be run inside a container (docker, singularity) WITHOUT pre-installation\n",
    "\n",
    "Please carwfully read the `spikeinterface.sorters` documentation for more information.\n",
    "\n",
    "In this example:\n",
    "\n",
    "  * we will run kilosort2.5\n",
    "  * we apply no drift correction (because we don't have drift)\n",
    "  * we use the docker image because we don't want to pay for MATLAB :)\n"
   ]
  },
  {
   "cell_type": "code",
   "execution_count": null,
   "id": "efe61940",
   "metadata": {},
   "outputs": [],
   "source": [
    "# check default params for kilosort2.5\n",
    "si.get_default_sorter_params('kilosort2_5')"
   ]
  },
  {
   "cell_type": "code",
   "execution_count": null,
   "id": "d1113832",
   "metadata": {},
   "outputs": [],
   "source": [
    "# run kilosort2.5 without drift correction\n",
    "params_kilosort2_5 = {'do_correction': False}\n",
    "\n",
    "sorting = si.run_sorter('kilosort2_5', rec, output_folder=base_folder / 'kilosort2.5_output',\n",
    "                        docker_image=True, verbose=True, **params_kilosort2_5)"
   ]
  },
  {
   "cell_type": "code",
   "execution_count": null,
   "id": "e9aa436d",
   "metadata": {},
   "outputs": [],
   "source": [
    "# the results can be read back for futur session\n",
    "sorting = si.read_sorter_folder(base_folder / 'kilosort2.5_output')"
   ]
  },
  {
   "cell_type": "code",
   "execution_count": null,
   "id": "04050278",
   "metadata": {},
   "outputs": [],
   "source": [
    "# here we have 31 untis in our recording\n",
    "sorting"
   ]
  },
  {
   "cell_type": "markdown",
   "id": "1b46da3f",
   "metadata": {},
   "source": [
    "## Post processing\n",
    "\n",
    "All the postprocessing step is based on the **SortingAnalyzer** object.\n",
    "\n",
    "This object combines a `sorting` and a `recording` object. It will also help to run some computation aka \"extensions\" to\n",
    "get an insight on the qulity of units.\n",
    "\n",
    "The first extentions we will run are:\n",
    "  * select some spikes per units\n",
    "  * etxract waveforms\n",
    "  * compute templates\n",
    "  * compute noise levels\n",
    "\n",
    "Note that we use the `sparse=True` option. This option is important because the waveforms will be extracted only for a few channels around the main channel of each unit. This saves tons of disk space and speeds up the waveforms extraction and further processing.\n",
    "\n",
    "Note that our object is not persistent to disk because we use `format=\"memory\"` we could use `format=\"binary_folder\"` or `format=\"zarr\"`."
   ]
  },
  {
   "cell_type": "code",
   "execution_count": null,
   "id": "fb7c3c17",
   "metadata": {},
   "outputs": [],
   "source": [
    "\n",
    "analyzer = si.create_sorting_analyzer(sorting, rec, sparse=True, format=\"memory\")\n",
    "analyzer"
   ]
  },
  {
   "cell_type": "code",
   "execution_count": null,
   "id": "290b52a3",
   "metadata": {},
   "outputs": [],
   "source": [
    "analyzer.compute(\"random_spikes\", method=\"uniform\", max_spikes_per_unit=500)\n",
    "analyzer.compute(\"waveforms\",  ms_before=1.5,ms_after=2., **job_kwargs)\n",
    "analyzer.compute(\"templates\", operators=[\"average\", \"median\", \"std\"])\n",
    "analyzer.compute(\"noise_levels\")\n",
    "analyzer"
   ]
  },
  {
   "cell_type": "markdown",
   "id": "da8a2cc8",
   "metadata": {},
   "source": [
    "Many additional computations rely on the `SortingAnalyzer`.\n",
    "Some computations are slower than others, but can be performed in parallel using the `**job_kwargs` mechanism.\n",
    "\n"
   ]
  },
  {
   "cell_type": "code",
   "execution_count": null,
   "id": "7c05ee64",
   "metadata": {
    "lines_to_next_cell": 2
   },
   "outputs": [],
   "source": [
    "analyzer.compute(\"correlograms\")\n",
    "analyzer.compute(\"unit_locations\")\n",
    "analyzer.compute(\"spike_amplitudes\", **job_kwargs)\n",
    "analyzer.compute(\"template_similarity\")\n",
    "analyzer"
   ]
  },
  {
   "cell_type": "markdown",
   "id": "42554cba",
   "metadata": {},
   "source": [
    "Our `SortingAnalyzer` can be saved to disk using `save_as()` which make a copy of the analyzer and all computed extensions."
   ]
  },
  {
   "cell_type": "code",
   "execution_count": null,
   "id": "92807a85",
   "metadata": {},
   "outputs": [],
   "source": [
    "analyzer_saved = analyzer.save_as(folder=base_folder / \"analyzer\", format=\"binary_folder\")\n",
    "analyzer_saved"
   ]
  },
  {
   "cell_type": "markdown",
   "id": "c1f8a0cf",
   "metadata": {},
   "source": [
    "## Quality metrics\n",
    "\n",
    "We have a single function `compute_quality_metrics(SortingAnalyzer)` that returns a `pandas.Dataframe` with the desired metrics.\n",
    "\n",
    "Note that this function is also an extension and so can be saved. And so this is equivalent to do :\n",
    "`metrics = analyzer.compute(\"quality_metrics\").get_data()`\n",
    "\n",
    "\n",
    "Please visit the [metrics documentation](https://spikeinterface.readthedocs.io/en/latest/modules/qualitymetrics.html) for more information and a list of all supported metrics.\n",
    "\n",
    "Some metrics are based on PCA (like `'isolation_distance', 'l_ratio', 'd_prime'`) and require to estimate PCA for their computation. This can be achieved with:\n",
    "\n",
    "`analyzer.compute(\"principal_components\")`\n",
    "\n"
   ]
  },
  {
   "cell_type": "code",
   "execution_count": null,
   "id": "3b664fe1",
   "metadata": {},
   "outputs": [],
   "source": [
    "metric_names=['firing_rate', 'presence_ratio', 'snr', 'isi_violation', 'amplitude_cutoff']\n",
    "\n",
    "\n",
    "# metrics = analyzer.compute(\"quality_metrics\").get_data()\n",
    "# equivalent to\n",
    "metrics = si.compute_quality_metrics(analyzer, metric_names=metric_names)\n",
    "\n",
    "metrics"
   ]
  },
  {
   "cell_type": "markdown",
   "id": "e01b0738",
   "metadata": {},
   "source": [
    "## Curation using metrics\n",
    "\n",
    "A very common curation approach is to threshold these metrics to select *good* units:"
   ]
  },
  {
   "cell_type": "code",
   "execution_count": null,
   "id": "d8bd5b5d",
   "metadata": {},
   "outputs": [],
   "source": [
    "amplitude_cutoff_thresh = 0.1\n",
    "isi_violations_ratio_thresh = 1\n",
    "presence_ratio_thresh = 0.9\n",
    "\n",
    "our_query = f\"(amplitude_cutoff < {amplitude_cutoff_thresh}) & (isi_violations_ratio < {isi_violations_ratio_thresh}) & (presence_ratio > {presence_ratio_thresh})\"\n",
    "print(our_query)"
   ]
  },
  {
   "cell_type": "code",
   "execution_count": null,
   "id": "a5e18281",
   "metadata": {},
   "outputs": [],
   "source": [
    "keep_units = metrics.query(our_query)\n",
    "keep_unit_ids = keep_units.index.values\n",
    "keep_unit_ids"
   ]
  },
  {
   "cell_type": "markdown",
   "id": "da678f84",
   "metadata": {},
   "source": [
    "## Export final results to disk folder and visulize with sortingview\n",
    "\n",
    "In order to export the final results we need to make a copy of the the waveforms, but only for the selected units (so we can avoid to compute them again)."
   ]
  },
  {
   "cell_type": "code",
   "execution_count": null,
   "id": "e08f338f",
   "metadata": {},
   "outputs": [],
   "source": [
    "analyzer_clean = analyzer.select_units(keep_unit_ids, folder=base_folder / 'analyzer_clean', format='binary_folder')"
   ]
  },
  {
   "cell_type": "code",
   "execution_count": null,
   "id": "e4d925c8",
   "metadata": {},
   "outputs": [],
   "source": [
    "analyzer_clean"
   ]
  },
  {
   "cell_type": "markdown",
   "id": "6c48838b",
   "metadata": {},
   "source": [
    "Then we export figures to a report folder"
   ]
  },
  {
   "cell_type": "code",
   "execution_count": null,
   "id": "4a3aabcc",
   "metadata": {},
   "outputs": [],
   "source": [
    "# export spike sorting report to a folder\n",
    "si.export_report(analyzer_clean, base_folder / 'report', format='png')"
   ]
  },
  {
   "cell_type": "code",
   "execution_count": null,
   "id": "a56450a0",
   "metadata": {},
   "outputs": [],
   "source": [
    "analyzer_clean = si.load_sorting_analyzer(base_folder / 'analyzer_clean')\n",
    "analyzer_clean"
   ]
  },
  {
   "cell_type": "markdown",
   "id": "fa8d4a91",
   "metadata": {},
   "source": [
    "And push the results to sortingview webased viewer\n",
    "\n",
    "```python\n",
    "si.plot_sorting_summary(analyzer_clean, backend='sortingview')\n",
    "```"
   ]
  }
 ],
 "metadata": {
  "jupytext": {
   "cell_metadata_filter": "-all",
   "formats": "ipynb,py:light"
  },
  "kernelspec": {
   "display_name": "Python 3 (ipykernel)",
   "language": "python",
   "name": "python3"
  }
 },
 "nbformat": 4,
 "nbformat_minor": 5
}
